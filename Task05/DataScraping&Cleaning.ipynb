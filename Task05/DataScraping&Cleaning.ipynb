{
 "cells": [
  {
   "cell_type": "code",
   "execution_count": 2,
   "metadata": {},
   "outputs": [],
   "source": [
    "import requests\n",
    "from bs4 import BeautifulSoup\n",
    "import pandas as pd\n",
    "import numpy as np\n",
    "import requests\n"
   ]
  },
  {
   "cell_type": "code",
   "execution_count": 4,
   "metadata": {},
   "outputs": [],
   "source": [
    "def scrape_and_save_data():\n",
    "    url = \"https://github.com/MarcusGrum/AIBAS/blob/main/README.md\"\n",
    "    response = requests.get(url)\n",
    "    soup = BeautifulSoup(response.text, 'html.parser')\n",
    "\n",
    "    # Scraping example: extracting text from the website\n",
    "    table = soup.find('table')  # Assuming a table structure in the HTML\n",
    "    if table:\n",
    "        rows = table.find_all('tr')\n",
    "        data = [[cell.text.strip() for cell in row.find_all(['td', 'th'])] for row in rows]\n",
    "    else:\n",
    "        print(\"No table found on the webpage.\")\n",
    "        return\n",
    "\n",
    "    if not data or len(data) < 2:  # Ensure at least one row of data and headers exist\n",
    "        print(\"Scraped data is empty or invalid.\")\n",
    "        return\n",
    "\n",
    "    # Convert the data into a DataFrame\n",
    "    try:\n",
    "        df = pd.DataFrame(data[1:], columns=data[0])  # Skip headers for rows, use first row as columns\n",
    "        df.to_csv(\"scraped_data.csv\", index=False)\n",
    "        print(\"Data scraped and saved successfully.\")\n",
    "    except Exception as e:\n",
    "        print(f\"Error creating DataFrame: {e}\")"
   ]
  },
  {
   "cell_type": "code",
   "execution_count": 9,
   "metadata": {},
   "outputs": [
    {
     "data": {
      "text/html": [
       "<div>\n",
       "<style scoped>\n",
       "    .dataframe tbody tr th:only-of-type {\n",
       "        vertical-align: middle;\n",
       "    }\n",
       "\n",
       "    .dataframe tbody tr th {\n",
       "        vertical-align: top;\n",
       "    }\n",
       "\n",
       "    .dataframe thead th {\n",
       "        text-align: right;\n",
       "    }\n",
       "</style>\n",
       "<table border=\"1\" class=\"dataframe\">\n",
       "  <thead>\n",
       "    <tr style=\"text-align: right;\">\n",
       "      <th></th>\n",
       "      <th>x</th>\n",
       "      <th>y</th>\n",
       "    </tr>\n",
       "  </thead>\n",
       "  <tbody>\n",
       "    <tr>\n",
       "      <th>0</th>\n",
       "      <td>10.611376985560522</td>\n",
       "      <td>-0.258198</td>\n",
       "    </tr>\n",
       "    <tr>\n",
       "      <th>1</th>\n",
       "      <td>4.386447954473255</td>\n",
       "      <td>0.007454</td>\n",
       "    </tr>\n",
       "    <tr>\n",
       "      <th>2</th>\n",
       "      <td>40.93916393492107</td>\n",
       "      <td>48.647258</td>\n",
       "    </tr>\n",
       "    <tr>\n",
       "      <th>3</th>\n",
       "      <td>47.51486916723017</td>\n",
       "      <td>47.497798</td>\n",
       "    </tr>\n",
       "    <tr>\n",
       "      <th>4</th>\n",
       "      <td>2.4025396488257247</td>\n",
       "      <td>1.414437</td>\n",
       "    </tr>\n",
       "  </tbody>\n",
       "</table>\n",
       "</div>"
      ],
      "text/plain": [
       "                    x          y\n",
       "0  10.611376985560522  -0.258198\n",
       "1   4.386447954473255   0.007454\n",
       "2   40.93916393492107  48.647258\n",
       "3   47.51486916723017  47.497798\n",
       "4  2.4025396488257247   1.414437"
      ]
     },
     "execution_count": 9,
     "metadata": {},
     "output_type": "execute_result"
    }
   ],
   "source": [
    "data = pd.read_csv('scraped_data.csv')\n",
    "data.head()"
   ]
  },
  {
   "cell_type": "code",
   "execution_count": 10,
   "metadata": {},
   "outputs": [
    {
     "data": {
      "text/html": [
       "<div>\n",
       "<style scoped>\n",
       "    .dataframe tbody tr th:only-of-type {\n",
       "        vertical-align: middle;\n",
       "    }\n",
       "\n",
       "    .dataframe tbody tr th {\n",
       "        vertical-align: top;\n",
       "    }\n",
       "\n",
       "    .dataframe thead th {\n",
       "        text-align: right;\n",
       "    }\n",
       "</style>\n",
       "<table border=\"1\" class=\"dataframe\">\n",
       "  <thead>\n",
       "    <tr style=\"text-align: right;\">\n",
       "      <th></th>\n",
       "      <th>x</th>\n",
       "      <th>y</th>\n",
       "    </tr>\n",
       "  </thead>\n",
       "  <tbody>\n",
       "    <tr>\n",
       "      <th>0</th>\n",
       "      <td>10.611377</td>\n",
       "      <td>-0.258198</td>\n",
       "    </tr>\n",
       "    <tr>\n",
       "      <th>1</th>\n",
       "      <td>4.386448</td>\n",
       "      <td>0.007454</td>\n",
       "    </tr>\n",
       "    <tr>\n",
       "      <th>2</th>\n",
       "      <td>40.939164</td>\n",
       "      <td>48.647258</td>\n",
       "    </tr>\n",
       "    <tr>\n",
       "      <th>3</th>\n",
       "      <td>47.514869</td>\n",
       "      <td>47.497798</td>\n",
       "    </tr>\n",
       "    <tr>\n",
       "      <th>4</th>\n",
       "      <td>2.402540</td>\n",
       "      <td>1.414437</td>\n",
       "    </tr>\n",
       "  </tbody>\n",
       "</table>\n",
       "</div>"
      ],
      "text/plain": [
       "           x          y\n",
       "0  10.611377  -0.258198\n",
       "1   4.386448   0.007454\n",
       "2  40.939164  48.647258\n",
       "3  47.514869  47.497798\n",
       "4   2.402540   1.414437"
      ]
     },
     "execution_count": 10,
     "metadata": {},
     "output_type": "execute_result"
    }
   ],
   "source": [
    "# Remove empty rows and columns\n",
    "data = data.dropna(how='all').dropna(axis=1, how='all')\n",
    "\n",
    "# Convert numeric columns to appropriate types\n",
    "for col in data.columns:\n",
    "    try:\n",
    "        data[col] = pd.to_numeric(data[col], errors='coerce')\n",
    "    except ValueError:\n",
    "        pass\n",
    "\n",
    "# Handle missing values by filling numeric columns with their median\n",
    "data = data.fillna(data.median(numeric_only=True))\n",
    "\n",
    "# Display cleaned data\n",
    "data.head()\n"
   ]
  },
  {
   "cell_type": "code",
   "execution_count": 11,
   "metadata": {},
   "outputs": [
    {
     "name": "stderr",
     "output_type": "stream",
     "text": [
      "/usr/lib/python3/dist-packages/pandas/core/nanops.py:1010: RuntimeWarning: overflow encountered in square\n",
      "  sqr = _ensure_numeric((avg - values) ** 2)\n"
     ]
    },
    {
     "data": {
      "text/html": [
       "<div>\n",
       "<style scoped>\n",
       "    .dataframe tbody tr th:only-of-type {\n",
       "        vertical-align: middle;\n",
       "    }\n",
       "\n",
       "    .dataframe tbody tr th {\n",
       "        vertical-align: top;\n",
       "    }\n",
       "\n",
       "    .dataframe thead th {\n",
       "        text-align: right;\n",
       "    }\n",
       "</style>\n",
       "<table border=\"1\" class=\"dataframe\">\n",
       "  <thead>\n",
       "    <tr style=\"text-align: right;\">\n",
       "      <th></th>\n",
       "      <th>x</th>\n",
       "      <th>y</th>\n",
       "    </tr>\n",
       "  </thead>\n",
       "  <tbody>\n",
       "    <tr>\n",
       "      <th>0</th>\n",
       "      <td>10.611377</td>\n",
       "      <td>-0.258198</td>\n",
       "    </tr>\n",
       "    <tr>\n",
       "      <th>1</th>\n",
       "      <td>4.386448</td>\n",
       "      <td>0.007454</td>\n",
       "    </tr>\n",
       "    <tr>\n",
       "      <th>2</th>\n",
       "      <td>40.939164</td>\n",
       "      <td>48.647258</td>\n",
       "    </tr>\n",
       "    <tr>\n",
       "      <th>3</th>\n",
       "      <td>47.514869</td>\n",
       "      <td>47.497798</td>\n",
       "    </tr>\n",
       "    <tr>\n",
       "      <th>4</th>\n",
       "      <td>2.402540</td>\n",
       "      <td>1.414437</td>\n",
       "    </tr>\n",
       "  </tbody>\n",
       "</table>\n",
       "</div>"
      ],
      "text/plain": [
       "           x          y\n",
       "0  10.611377  -0.258198\n",
       "1   4.386448   0.007454\n",
       "2  40.939164  48.647258\n",
       "3  47.514869  47.497798\n",
       "4   2.402540   1.414437"
      ]
     },
     "execution_count": 11,
     "metadata": {},
     "output_type": "execute_result"
    }
   ],
   "source": [
    "# Calculate Z-scores for numeric columns to detect outliers\n",
    "numeric_cols = data.select_dtypes(include=[np.number])\n",
    "z_scores = (numeric_cols - numeric_cols.mean()) / numeric_cols.std()\n",
    "\n",
    "# Remove rows where any numeric column has a Z-score > 3\n",
    "data = data[(np.abs(z_scores) < 3).all(axis=1)]\n",
    "\n",
    "# Display data after outlier removal\n",
    "data.head()\n"
   ]
  },
  {
   "cell_type": "code",
   "execution_count": 12,
   "metadata": {},
   "outputs": [
    {
     "data": {
      "text/html": [
       "<div>\n",
       "<style scoped>\n",
       "    .dataframe tbody tr th:only-of-type {\n",
       "        vertical-align: middle;\n",
       "    }\n",
       "\n",
       "    .dataframe tbody tr th {\n",
       "        vertical-align: top;\n",
       "    }\n",
       "\n",
       "    .dataframe thead th {\n",
       "        text-align: right;\n",
       "    }\n",
       "</style>\n",
       "<table border=\"1\" class=\"dataframe\">\n",
       "  <thead>\n",
       "    <tr style=\"text-align: right;\">\n",
       "      <th></th>\n",
       "      <th>x</th>\n",
       "      <th>y</th>\n",
       "    </tr>\n",
       "  </thead>\n",
       "  <tbody>\n",
       "    <tr>\n",
       "      <th>0</th>\n",
       "      <td>0.211976</td>\n",
       "      <td>6.694553e-159</td>\n",
       "    </tr>\n",
       "    <tr>\n",
       "      <th>1</th>\n",
       "      <td>0.087438</td>\n",
       "      <td>6.960205e-159</td>\n",
       "    </tr>\n",
       "    <tr>\n",
       "      <th>2</th>\n",
       "      <td>0.818725</td>\n",
       "      <td>5.560001e-158</td>\n",
       "    </tr>\n",
       "    <tr>\n",
       "      <th>3</th>\n",
       "      <td>0.950282</td>\n",
       "      <td>5.445055e-158</td>\n",
       "    </tr>\n",
       "    <tr>\n",
       "      <th>4</th>\n",
       "      <td>0.047747</td>\n",
       "      <td>8.367187e-159</td>\n",
       "    </tr>\n",
       "  </tbody>\n",
       "</table>\n",
       "</div>"
      ],
      "text/plain": [
       "          x              y\n",
       "0  0.211976  6.694553e-159\n",
       "1  0.087438  6.960205e-159\n",
       "2  0.818725  5.560001e-158\n",
       "3  0.950282  5.445055e-158\n",
       "4  0.047747  8.367187e-159"
      ]
     },
     "execution_count": 12,
     "metadata": {},
     "output_type": "execute_result"
    }
   ],
   "source": [
    "# Normalize numeric columns using Min-Max scaling\n",
    "for col in numeric_cols.columns:\n",
    "    data[col] = (data[col] - data[col].min()) / (data[col].max() - data[col].min())\n",
    "\n",
    "# Display normalized data\n",
    "data.head()\n"
   ]
  },
  {
   "cell_type": "code",
   "execution_count": 13,
   "metadata": {},
   "outputs": [
    {
     "name": "stdout",
     "output_type": "stream",
     "text": [
      "Data saved successfully to UE_06_dataset04_joint_scraped_data.csv\n"
     ]
    }
   ],
   "source": [
    "# Save the cleaned and processed data to a CSV file\n",
    "output_file = \"UE_06_dataset04_joint_scraped_data.csv\"\n",
    "data.to_csv(output_file, index=False)\n",
    "\n",
    "print(f\"Data saved successfully to {output_file}\")\n"
   ]
  },
  {
   "cell_type": "code",
   "execution_count": null,
   "metadata": {},
   "outputs": [],
   "source": []
  }
 ],
 "metadata": {
  "kernelspec": {
   "display_name": "Python 3",
   "language": "python",
   "name": "python3"
  },
  "language_info": {
   "codemirror_mode": {
    "name": "ipython",
    "version": 3
   },
   "file_extension": ".py",
   "mimetype": "text/x-python",
   "name": "python",
   "nbconvert_exporter": "python",
   "pygments_lexer": "ipython3",
   "version": "3.12.3"
  }
 },
 "nbformat": 4,
 "nbformat_minor": 2
}
